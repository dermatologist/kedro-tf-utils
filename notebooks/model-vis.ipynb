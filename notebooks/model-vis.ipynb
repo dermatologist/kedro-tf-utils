{
 "cells": [
  {
   "cell_type": "code",
   "execution_count": null,
   "id": "a7f1d587",
   "metadata": {},
   "outputs": [],
   "source": [
    "import tensorflow as tf"
   ]
  },
  {
   "cell_type": "code",
   "execution_count": null,
   "id": "0276caea",
   "metadata": {},
   "outputs": [],
   "source": [
    "filepath = '/Users/M267492/Repository/kedro-tf-utils/data/07_model_output/fusion'\n",
    "model = tf.keras.models.load_model(\n",
    "    filepath, custom_objects=None, compile=True, options=None\n",
    ")"
   ]
  },
  {
   "cell_type": "code",
   "execution_count": null,
   "id": "247dcd12",
   "metadata": {},
   "outputs": [],
   "source": [
    "model.summary()"
   ]
  },
  {
   "cell_type": "code",
   "execution_count": null,
   "id": "b0ebfce5",
   "metadata": {},
   "outputs": [],
   "source": [
    "\n",
    "from tensorflow.keras.utils import plot_model\n",
    "plot_model(model, to_file='model_cnn.png')"
   ]
  },
  {
   "cell_type": "code",
   "execution_count": null,
   "id": "aab1209f",
   "metadata": {},
   "outputs": [],
   "source": []
  }
 ],
 "metadata": {
  "kernelspec": {
   "display_name": "Kedro (kedro_tf_utils)",
   "language": "python",
   "name": "kedro_kedro_tf_utils"
  },
  "language_info": {
   "codemirror_mode": {
    "name": "ipython",
    "version": 3
   },
   "file_extension": ".py",
   "mimetype": "text/x-python",
   "name": "python",
   "nbconvert_exporter": "python",
   "pygments_lexer": "ipython3",
   "version": "3.8.10"
  }
 },
 "nbformat": 4,
 "nbformat_minor": 5
}
